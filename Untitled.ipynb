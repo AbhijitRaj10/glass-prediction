{
 "cells": [
  {
   "cell_type": "code",
   "execution_count": 1,
   "metadata": {},
   "outputs": [],
   "source": [
    "import pandas as pd\n",
    "import numpy as np\n",
    "import seaborn as sns\n",
    "import matplotlib.pyplot as plt\n",
    "import warnings\n",
    "warnings.filterwarnings(\"ignore\")"
   ]
  },
  {
   "cell_type": "code",
   "execution_count": 2,
   "metadata": {},
   "outputs": [],
   "source": [
    "df = pd.read_csv(\"data/glass.csv\")"
   ]
  },
  {
   "cell_type": "code",
   "execution_count": 3,
   "metadata": {},
   "outputs": [
    {
     "data": {
      "text/html": [
       "<div>\n",
       "<style scoped>\n",
       "    .dataframe tbody tr th:only-of-type {\n",
       "        vertical-align: middle;\n",
       "    }\n",
       "\n",
       "    .dataframe tbody tr th {\n",
       "        vertical-align: top;\n",
       "    }\n",
       "\n",
       "    .dataframe thead th {\n",
       "        text-align: right;\n",
       "    }\n",
       "</style>\n",
       "<table border=\"1\" class=\"dataframe\">\n",
       "  <thead>\n",
       "    <tr style=\"text-align: right;\">\n",
       "      <th></th>\n",
       "      <th>RI</th>\n",
       "      <th>Na</th>\n",
       "      <th>Mg</th>\n",
       "      <th>Al</th>\n",
       "      <th>Si</th>\n",
       "      <th>K</th>\n",
       "      <th>Ca</th>\n",
       "      <th>Ba</th>\n",
       "      <th>Fe</th>\n",
       "      <th>Type</th>\n",
       "    </tr>\n",
       "  </thead>\n",
       "  <tbody>\n",
       "    <tr>\n",
       "      <th>0</th>\n",
       "      <td>1.52101</td>\n",
       "      <td>13.64</td>\n",
       "      <td>4.49</td>\n",
       "      <td>1.10</td>\n",
       "      <td>71.78</td>\n",
       "      <td>0.06</td>\n",
       "      <td>8.75</td>\n",
       "      <td>0.0</td>\n",
       "      <td>0.0</td>\n",
       "      <td>1</td>\n",
       "    </tr>\n",
       "    <tr>\n",
       "      <th>1</th>\n",
       "      <td>1.51761</td>\n",
       "      <td>13.89</td>\n",
       "      <td>3.60</td>\n",
       "      <td>1.36</td>\n",
       "      <td>72.73</td>\n",
       "      <td>0.48</td>\n",
       "      <td>7.83</td>\n",
       "      <td>0.0</td>\n",
       "      <td>0.0</td>\n",
       "      <td>1</td>\n",
       "    </tr>\n",
       "    <tr>\n",
       "      <th>2</th>\n",
       "      <td>1.51618</td>\n",
       "      <td>13.53</td>\n",
       "      <td>3.55</td>\n",
       "      <td>1.54</td>\n",
       "      <td>72.99</td>\n",
       "      <td>0.39</td>\n",
       "      <td>7.78</td>\n",
       "      <td>0.0</td>\n",
       "      <td>0.0</td>\n",
       "      <td>1</td>\n",
       "    </tr>\n",
       "    <tr>\n",
       "      <th>3</th>\n",
       "      <td>1.51766</td>\n",
       "      <td>13.21</td>\n",
       "      <td>3.69</td>\n",
       "      <td>1.29</td>\n",
       "      <td>72.61</td>\n",
       "      <td>0.57</td>\n",
       "      <td>8.22</td>\n",
       "      <td>0.0</td>\n",
       "      <td>0.0</td>\n",
       "      <td>1</td>\n",
       "    </tr>\n",
       "    <tr>\n",
       "      <th>4</th>\n",
       "      <td>1.51742</td>\n",
       "      <td>13.27</td>\n",
       "      <td>3.62</td>\n",
       "      <td>1.24</td>\n",
       "      <td>73.08</td>\n",
       "      <td>0.55</td>\n",
       "      <td>8.07</td>\n",
       "      <td>0.0</td>\n",
       "      <td>0.0</td>\n",
       "      <td>1</td>\n",
       "    </tr>\n",
       "  </tbody>\n",
       "</table>\n",
       "</div>"
      ],
      "text/plain": [
       "        RI     Na    Mg    Al     Si     K    Ca   Ba   Fe  Type\n",
       "0  1.52101  13.64  4.49  1.10  71.78  0.06  8.75  0.0  0.0     1\n",
       "1  1.51761  13.89  3.60  1.36  72.73  0.48  7.83  0.0  0.0     1\n",
       "2  1.51618  13.53  3.55  1.54  72.99  0.39  7.78  0.0  0.0     1\n",
       "3  1.51766  13.21  3.69  1.29  72.61  0.57  8.22  0.0  0.0     1\n",
       "4  1.51742  13.27  3.62  1.24  73.08  0.55  8.07  0.0  0.0     1"
      ]
     },
     "execution_count": 3,
     "metadata": {},
     "output_type": "execute_result"
    }
   ],
   "source": [
    "df.head()"
   ]
  },
  {
   "cell_type": "code",
   "execution_count": 4,
   "metadata": {},
   "outputs": [
    {
     "data": {
      "image/png": "[encoded data removed]",
      "text/plain": [
       "<Figure size 432x288 with 1 Axes>"
      ]
     },
     "metadata": {
      "needs_background": "light"
     },
     "output_type": "display_data"
    }
   ],
   "source": [
    "sns.histplot(data=df,x=\"RI\",kde= True)\n",
    "plt.show()"
   ]
  },
  {
   "cell_type": "code",
   "execution_count": 5,
   "metadata": {},
   "outputs": [
    {
     "data": {
      "image/png": "[encoded data removed]",
      "text/plain": [
       "<Figure size 432x288 with 1 Axes>"
      ]
     },
     "metadata": {
      "needs_background": "light"
     },
     "output_type": "display_data"
    }
   ],
   "source": [
    "sns.histplot(data=df,x=\"Ba\",hue=\"Type\",element=\"poly\")\n",
    "plt.show()"
   ]
  },
  {
   "cell_type": "code",
   "execution_count": 6,
   "metadata": {},
   "outputs": [
    {
     "data": {
      "image/png": "[encoded data removed]",
      "text/plain": [
       "<Figure size 432x288 with 1 Axes>"
      ]
     },
     "metadata": {
      "needs_background": "light"
     },
     "output_type": "display_data"
    }
   ],
   "source": [
    "sns.histplot(data=df,x=\"Fe\",hue=\"Type\",element=\"poly\")\n",
    "plt.show()"
   ]
  },
  {
   "cell_type": "code",
   "execution_count": 7,
   "metadata": {},
   "outputs": [
    {
     "name": "stdout",
     "output_type": "stream",
     "text": [
      "0\n"
     ]
    }
   ],
   "source": [
    "print(df['Fe'].isnull().sum())"
   ]
  },
  {
   "cell_type": "code",
   "execution_count": 8,
   "metadata": {},
   "outputs": [
    {
     "data": {
      "text/plain": [
       "144"
      ]
     },
     "execution_count": 8,
     "metadata": {},
     "output_type": "execute_result"
    }
   ],
   "source": [
    "zero_count = (df['Fe'] == 0).sum()\n",
    "zero_count"
   ]
  },
  {
   "cell_type": "code",
   "execution_count": 9,
   "metadata": {},
   "outputs": [
    {
     "data": {
      "text/plain": [
       "176"
      ]
     },
     "execution_count": 9,
     "metadata": {},
     "output_type": "execute_result"
    }
   ],
   "source": [
    "zero_count = (df['Ba'] == 0).sum()\n",
    "zero_count"
   ]
  },
  {
   "cell_type": "code",
   "execution_count": 10,
   "metadata": {},
   "outputs": [],
   "source": [
    "X=df.drop(['Ba','Fe','Type'], axis=1)\n",
    "y=df[ 'Type']"
   ]
  },
  {
   "cell_type": "code",
   "execution_count": 12,
   "metadata": {},
   "outputs": [
    {
     "name": "stdout",
     "output_type": "stream",
     "text": [
      "TRAIN-SIZE: (149, 7) (149,)\n",
      "Test-SIZE: (65, 7) (65,)\n"
     ]
    }
   ],
   "source": [
    "from sklearn.model_selection import train_test_split\n",
    "X_train,X_test,y_train,y_test = train_test_split(X,y,\n",
    "                                                test_size=0.3,\n",
    "                                                random_state=10)\n",
    "print('TRAIN-SIZE:',X_train.shape,y_train.shape)\n",
    "print('Test-SIZE:',X_test.shape,y_test.shape)"
   ]
  },
  {
   "cell_type": "code",
   "execution_count": 41,
   "metadata": {},
   "outputs": [
    {
     "data": {
      "text/plain": [
       "array([[-0.49313676, -0.89210363,  0.13317649, ...,  0.73696075,\n",
       "         0.39794202, -0.31600533],\n",
       "       [ 2.91615036,  0.57659186,  0.32024669, ..., -2.70919808,\n",
       "        -0.70164955,  1.82201814],\n",
       "       [-1.08877476,  2.33122808, -1.86223892, ...,  1.11551608,\n",
       "        -0.83698389, -0.45394233],\n",
       "       ...,\n",
       "       [-0.25619789, -0.71014136,  0.59045919, ...,  0.77612165,\n",
       "         0.14419012, -0.41945808],\n",
       "       [ 0.10908288, -0.55417369,  0.6736015 , ..., -0.17679348,\n",
       "         0.14419012, -0.30910848],\n",
       "       [-0.27594279, -0.46319256,  0.63203035, ...,  0.44978085,\n",
       "         0.12727332, -0.41256123]])"
      ]
     },
     "execution_count": 41,
     "metadata": {},
     "output_type": "execute_result"
    }
   ],
   "source": [
    "from sklearn.preprocessing import StandardScaler , MinMaxScaler\n",
    "\n",
    "#scaler =  MinMaxScaler() use any one your choice\n",
    "scaler =   StandardScaler()\n",
    "\n",
    "scaler.fit(X_train)\n",
    "\n",
    "X_train_scale = scaler.transform(X_train)\n",
    "X_test_scale = scaler.transform(X_test)\n",
    "\n",
    "X_train_scale"
   ]
  },
  {
   "cell_type": "code",
   "execution_count": 42,
   "metadata": {},
   "outputs": [],
   "source": [
    "from sklearn.neighbors import KNeighborsClassifier"
   ]
  },
  {
   "cell_type": "code",
   "execution_count": 43,
   "metadata": {},
   "outputs": [],
   "source": [
    "model_KNN = KNeighborsClassifier(n_neighbors=15)\n",
    "model_KNN.fit(X_train_scale,y_train)\n",
    "y_pred = model_KNN.predict(X_test_scale)"
   ]
  },
  {
   "cell_type": "code",
   "execution_count": 44,
   "metadata": {},
   "outputs": [
    {
     "data": {
      "text/plain": [
       "array([1, 2, 2, 2, 1, 1, 2, 5, 1, 1, 1, 1, 1, 7, 2, 2, 7, 1, 2, 2, 2, 2,\n",
       "       6, 2, 2, 2, 2, 1, 2, 2, 2, 1, 2, 6, 1, 7, 2, 7, 2, 1, 2, 2, 2, 1,\n",
       "       2, 1, 1, 1, 2, 2, 2, 1, 2, 1, 7, 7, 2, 1, 1, 2, 7, 2, 2, 2, 7],\n",
       "      dtype=int64)"
      ]
     },
     "execution_count": 44,
     "metadata": {},
     "output_type": "execute_result"
    }
   ],
   "source": [
    "y_pred\n"
   ]
  },
  {
   "cell_type": "code",
   "execution_count": 45,
   "metadata": {},
   "outputs": [
    {
     "data": {
      "text/plain": [
       "161    3\n",
       "120    2\n",
       "105    2\n",
       "148    3\n",
       "69     1\n",
       "      ..\n",
       "199    7\n",
       "146    3\n",
       "160    3\n",
       "124    2\n",
       "184    6\n",
       "Name: Type, Length: 65, dtype: int64"
      ]
     },
     "execution_count": 45,
     "metadata": {},
     "output_type": "execute_result"
    }
   ],
   "source": [
    "y_test"
   ]
  },
  {
   "cell_type": "code",
   "execution_count": 46,
   "metadata": {},
   "outputs": [
    {
     "name": "stdout",
     "output_type": "stream",
     "text": [
      "[[14 11  0  0  0  0]\n",
      " [ 2 14  0  0  1  0]\n",
      " [ 3  4  0  0  0  0]\n",
      " [ 0  3  0  1  0  0]\n",
      " [ 0  0  0  0  1  3]\n",
      " [ 2  1  0  0  0  5]]\n",
      "Classification report: \n",
      "              precision    recall  f1-score   support\n",
      "\n",
      "           1       0.67      0.56      0.61        25\n",
      "           2       0.42      0.82      0.56        17\n",
      "           3       0.00      0.00      0.00         7\n",
      "           5       1.00      0.25      0.40         4\n",
      "           6       0.50      0.25      0.33         4\n",
      "           7       0.62      0.62      0.62         8\n",
      "\n",
      "    accuracy                           0.54        65\n",
      "   macro avg       0.54      0.42      0.42        65\n",
      "weighted avg       0.54      0.54      0.50        65\n",
      "\n",
      "Accuracy of the model:  0.5384615384615384\n"
     ]
    }
   ],
   "source": [
    "from sklearn.metrics import confusion_matrix, accuracy_score, classification_report\n",
    "y_pred = model_KNN.predict(X_test_scale)\n",
    "cfm =confusion_matrix(y_test,y_pred)\n",
    "\n",
    "print(cfm)\n",
    "\n",
    "print(\"Classification report: \")\n",
    "\n",
    "print(classification_report(y_test,y_pred))\n",
    "\n",
    "acc=accuracy_score(y_test, y_pred)\n",
    "print(\"Accuracy of the model: \",acc)"
   ]
  },
  {
   "cell_type": "code",
   "execution_count": 47,
   "metadata": {},
   "outputs": [
    {
     "name": "stdout",
     "output_type": "stream",
     "text": [
      "[[40  5  0  0  0  0]\n",
      " [13 45  0  0  1  0]\n",
      " [ 4  6  0  0  0  0]\n",
      " [ 2  3  0  4  0  0]\n",
      " [ 4  0  0  0  0  1]\n",
      " [ 2  1  0  0  0 18]]\n",
      "Classification report: \n",
      "              precision    recall  f1-score   support\n",
      "\n",
      "           1       0.62      0.89      0.73        45\n",
      "           2       0.75      0.76      0.76        59\n",
      "           3       0.00      0.00      0.00        10\n",
      "           5       1.00      0.44      0.62         9\n",
      "           6       0.00      0.00      0.00         5\n",
      "           7       0.95      0.86      0.90        21\n",
      "\n",
      "    accuracy                           0.72       149\n",
      "   macro avg       0.55      0.49      0.50       149\n",
      "weighted avg       0.68      0.72      0.68       149\n",
      "\n",
      "Accuracy of the model:  0.7181208053691275\n"
     ]
    }
   ],
   "source": [
    "y_pred= model_KNN.predict(X_train_scale)\n",
    "cfm =confusion_matrix(y_train,y_pred)\n",
    "\n",
    "print(cfm)\n",
    "\n",
    "print(\"Classification report: \")\n",
    "\n",
    "print(classification_report(y_train,y_pred))\n",
    "\n",
    "acc=accuracy_score(y_train, y_pred)\n",
    "print(\"Accuracy of the model: \",acc)"
   ]
  },
  {
   "cell_type": "code",
   "execution_count": 48,
   "metadata": {},
   "outputs": [
    {
     "name": "stdout",
     "output_type": "stream",
     "text": [
      "Accuracy is: () for K-Value: 0.54\n",
      "Accuracy is: () for K-Value: 0.54\n",
      "Accuracy is: () for K-Value: 0.48\n",
      "Accuracy is: () for K-Value: 0.52\n",
      "Accuracy is: () for K-Value: 0.51\n",
      "Accuracy is: () for K-Value: 0.52\n",
      "Accuracy is: () for K-Value: 0.52\n",
      "Accuracy is: () for K-Value: 0.52\n",
      "Accuracy is: () for K-Value: 0.51\n",
      "Accuracy is: () for K-Value: 0.51\n",
      "Accuracy is: () for K-Value: 0.52\n",
      "Accuracy is: () for K-Value: 0.55\n",
      "Accuracy is: () for K-Value: 0.54\n",
      "Accuracy is: () for K-Value: 0.54\n",
      "Accuracy is: () for K-Value: 0.52\n",
      "Accuracy is: () for K-Value: 0.52\n",
      "Accuracy is: () for K-Value: 0.54\n",
      "Accuracy is: () for K-Value: 0.54\n",
      "Accuracy is: () for K-Value: 0.51\n",
      "Accuracy is: () for K-Value: 0.49\n",
      "Accuracy is: () for K-Value: 0.49\n",
      "Accuracy is: () for K-Value: 0.51\n",
      "Accuracy is: () for K-Value: 0.49\n",
      "Accuracy is: () for K-Value: 0.49\n",
      "Accuracy is: () for K-Value: 0.49\n",
      "Accuracy is: () for K-Value: 0.49\n",
      "Accuracy is: () for K-Value: 0.49\n",
      "Accuracy is: () for K-Value: 0.49\n"
     ]
    }
   ],
   "source": [
    "acc_dict = dict()\n",
    "\n",
    "for K in range(3,31):\n",
    "#CREATE object with K VALV\n",
    "    model_KNN = KNeighborsClassifier(K, metric='euclidean')\n",
    "\n",
    "    model_KNN.fit(X_train_scale,y_train)\n",
    "\n",
    "#model prediction\n",
    "\n",
    "    y_pred= model_KNN.predict(X_test_scale)\n",
    "\n",
    "    acc_score = round(accuracy_score(y_test, y_pred),2)\n",
    "\n",
    "#print accuracy score\n",
    "\n",
    "    print(\"Accuracy is: () for K-Value: {}\".format(acc_score,K))\n",
    "\n",
    "    acc_dict[K] = acc_score"
   ]
  },
  {
   "cell_type": "code",
   "execution_count": 49,
   "metadata": {},
   "outputs": [
    {
     "name": "stdout",
     "output_type": "stream",
     "text": [
      "14 i 0.55\n"
     ]
    }
   ],
   "source": [
    "for k in acc_dict:\n",
    "    if acc_dict[k] ==max(acc_dict.values()): \n",
    "        print(k,'i', acc_dict[k])"
   ]
  },
  {
   "cell_type": "code",
   "execution_count": 50,
   "metadata": {},
   "outputs": [],
   "source": [
    "model =KNeighborsClassifier(n_neighbors=5, metric=\"euclidean\", n_jobs=-1)\n",
    "\n",
    "#model fit\n",
    "\n",
    "model.fit(X_train_scale, y_train)\n",
    "\n",
    "#model prediction\n",
    "\n",
    "y_pred = model.predict(X_test_scale)\n",
    "\n"
   ]
  },
  {
   "cell_type": "code",
   "execution_count": null,
   "metadata": {},
   "outputs": [],
   "source": []
  }
 ],
 "metadata": {
  "kernelspec": {
   "display_name": "Python 3",
   "language": "python",
   "name": "python3"
  },
  "language_info": {
   "codemirror_mode": {
    "name": "ipython",
    "version": 3
   },
   "file_extension": ".py",
   "mimetype": "text/x-python",
   "name": "python",
   "nbconvert_exporter": "python",
   "pygments_lexer": "ipython3",
   "version": "3.7.6"
  }
 },
 "nbformat": 4,
 "nbformat_minor": 4
}
